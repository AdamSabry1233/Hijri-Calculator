{
  "nbformat": 4,
  "nbformat_minor": 0,
  "metadata": {
    "colab": {
      "provenance": [],
      "authorship_tag": "ABX9TyOK3GmKc5pl1luM31XPGBL5",
      "include_colab_link": true
    },
    "kernelspec": {
      "name": "python3",
      "display_name": "Python 3"
    },
    "language_info": {
      "name": "python"
    }
  },
  "cells": [
    {
      "cell_type": "markdown",
      "metadata": {
        "id": "view-in-github",
        "colab_type": "text"
      },
      "source": [
        "<a href=\"https://colab.research.google.com/github/AdamSabry1233/Hijri-Calculator/blob/main/Hijri_Calculator.ipynb\" target=\"_parent\"><img src=\"https://colab.research.google.com/assets/colab-badge.svg\" alt=\"Open In Colab\"/></a>"
      ]
    },
    {
      "cell_type": "code",
      "execution_count": null,
      "metadata": {
        "colab": {
          "base_uri": "https://localhost:8080/"
        },
        "id": "EqOE2-RlAcVn",
        "outputId": "f29f9987-ed5c-42e1-8a4b-8c44ad7bf4b5"
      },
      "outputs": [
        {
          "output_type": "stream",
          "name": "stdout",
          "text": [
            "Enter your birthday (YYYY-MM-DD): 2001-07-25\n",
            "\n",
            "Your Hijri birthday is approximately 4-5-1422\n",
            "Which is 4 Jumada al-Awwal 1422 in the Islamic calendar.\n",
            "\n",
            "Your Hijri age as of today is 24 years, 3 months, and 27 days.\n"
          ]
        }
      ],
      "source": [
        "import subprocess\n",
        "import sys\n",
        "\n",
        "try:\n",
        "    import convertdate\n",
        "except ImportError:\n",
        "    print(\"Installing missing dependency: convertdate...\")\n",
        "    subprocess.check_call([sys.executable, \"-m\", \"pip\", \"install\", \"convertdate\"])\n",
        "    import convertdate\n",
        "\n",
        "from datetime import date\n",
        "from convertdate import islamic\n",
        "\n",
        "# A helper dict to map Hijri month numbers to their names\n",
        "HIJRI_MONTH_NAMES = {\n",
        "    1:  \"Muharram\",\n",
        "    2:  \"Safar\",\n",
        "    3:  \"Rabi' al-Awwal\",\n",
        "    4:  \"Rabi' al-Thani\",\n",
        "    5:  \"Jumada al-Awwal\",\n",
        "    6:  \"Jumada al-Thani\",\n",
        "    7:  \"Rajab\",\n",
        "    8:  \"Sha'ban\",\n",
        "    9:  \"Ramadan\",\n",
        "    10: \"Shawwal\",\n",
        "    11: \"Dhu al-Qa'dah\",\n",
        "    12: \"Dhu al-Hijjah\"\n",
        "}\n",
        "\n",
        "def is_hijri_leap(year):\n",
        "    \"\"\"\n",
        "    Returns True if the given Hijri year is a leap year.\n",
        "    Standard rule: if ((11 * year + 14) % 30) is less than 11.\n",
        "    \"\"\"\n",
        "    return ((11 * year + 14) % 30) < 11\n",
        "\n",
        "def get_hijri_month_length(year, month):\n",
        "    \"\"\"\n",
        "    Returns the number of days in the given Hijri month for a particular year,\n",
        "    based on the tabular Islamic calendar.\n",
        "    \"\"\"\n",
        "    if month % 2 == 1:\n",
        "        # Odd months are 30 days\n",
        "        return 30\n",
        "    else:\n",
        "        # Even months are 29 days, except month 12 in a leap year.\n",
        "        if month == 12 and is_hijri_leap(year):\n",
        "            return 30\n",
        "        return 29\n",
        "\n",
        "def calculate_hijri_age(birth_hijri, current_hijri):\n",
        "    \"\"\"\n",
        "    Given two Hijri dates as (year, month, day), compute the difference\n",
        "    in years, months, and days.\n",
        "    \"\"\"\n",
        "    by, bm, bd = birth_hijri\n",
        "    cy, cm, cd = current_hijri\n",
        "\n",
        "    years_diff = cy - by\n",
        "    months_diff = cm - bm\n",
        "    days_diff = cd - bd\n",
        "\n",
        "    if days_diff < 0:\n",
        "        months_diff -= 1\n",
        "\n",
        "        prev_month = cm - 1\n",
        "        prev_year = cy\n",
        "        if prev_month == 0:\n",
        "            prev_month = 12\n",
        "            prev_year -= 1\n",
        "        days_diff += get_hijri_month_length(prev_year, prev_month)\n",
        "\n",
        "\n",
        "    if months_diff < 0:\n",
        "        months_diff += 12\n",
        "        years_diff -= 1\n",
        "\n",
        "    return years_diff, months_diff, days_diff\n",
        "\n",
        "def main():\n",
        "    # 1) Prompt the user for Gregorian birthday\n",
        "    gregorian_birthday_str = input(\"Enter your birthday (YYYY-MM-DD): \")\n",
        "    gy, gm, gd = map(int, gregorian_birthday_str.split('-'))\n",
        "\n",
        "    # 2) Convert the Gregorian birthday to the Hijri date\n",
        "    hyear, hmonth, hday = islamic.from_gregorian(gy, gm, gd)\n",
        "    birth_hijri = (hyear, hmonth, hday)\n",
        "\n",
        "    # Lookup the Hijri month name\n",
        "    hijri_month_name = HIJRI_MONTH_NAMES.get(hmonth, \"Unknown month\")\n",
        "\n",
        "    # 3) Print your Hijri birthday\n",
        "    print(f\"\\nYour Hijri birthday is approximately {hday}-{hmonth}-{hyear}\")\n",
        "    print(f\"Which is {hday} {hijri_month_name} {hyear} in the Islamic calendar.\\n\")\n",
        "\n",
        "    # 4) Convert today's Gregorian date to Hijri date\n",
        "    today = date.today()\n",
        "    current_hijri = islamic.from_gregorian(today.year, today.month, today.day)\n",
        "\n",
        "    # 5) Calculate your Hijri age in years, months, and days\n",
        "    years, months, days = calculate_hijri_age(birth_hijri, current_hijri)\n",
        "    print(f\"Your Hijri age as of today is {years} years, {months} months, and {days} days.\")\n",
        "\n",
        "if __name__ == \"__main__\":\n",
        "    main()\n"
      ]
    }
  ]
}